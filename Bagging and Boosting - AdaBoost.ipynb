{
 "cells": [
  {
   "cell_type": "markdown",
   "metadata": {},
   "source": [
    "### Load Library"
   ]
  },
  {
   "cell_type": "code",
   "execution_count": 1,
   "metadata": {},
   "outputs": [],
   "source": [
    "import numpy as np\n",
    "import pandas as pd\n",
    "import seaborn as sns\n",
    "import matplotlib.pyplot as plt\n",
    "#################################\n",
    "from sklearn.preprocessing import StandardScaler\n",
    "from sklearn.metrics import classification_report, confusion_matrix, accuracy_score\n",
    "from sklearn.model_selection import cross_val_score\n",
    "from sklearn.ensemble import RandomForestClassifier, AdaBoostClassifier, BaggingClassifier\n",
    "###################################\n",
    "from sklearn.datasets import load_digits"
   ]
  },
  {
   "cell_type": "markdown",
   "metadata": {},
   "source": [
    "### Load Data"
   ]
  },
  {
   "cell_type": "code",
   "execution_count": 2,
   "metadata": {},
   "outputs": [],
   "source": [
    "data = load_digits()"
   ]
  },
  {
   "cell_type": "code",
   "execution_count": 3,
   "metadata": {},
   "outputs": [],
   "source": [
    "# Define Data\n",
    "x = data.data\n",
    "y = data.target"
   ]
  },
  {
   "cell_type": "code",
   "execution_count": 5,
   "metadata": {},
   "outputs": [
    {
     "name": "stdout",
     "output_type": "stream",
     "text": [
      "X shape : (1797, 64)\n",
      "Y shape : (1797,)\n"
     ]
    }
   ],
   "source": [
    "print(\"X shape : {}\".format(x.shape))\n",
    "print(\"Y shape : {}\".format(y.shape))"
   ]
  },
  {
   "cell_type": "markdown",
   "metadata": {},
   "source": [
    "### Preprocessing"
   ]
  },
  {
   "cell_type": "code",
   "execution_count": 8,
   "metadata": {},
   "outputs": [],
   "source": [
    "# Scale Data\n",
    "scale = StandardScaler()\n",
    "# Fit Data\n",
    "x = scale.fit_transform(x)"
   ]
  },
  {
   "cell_type": "code",
   "execution_count": 12,
   "metadata": {},
   "outputs": [],
   "source": [
    "# Train Test Split\n",
    "from sklearn.model_selection import train_test_split\n",
    "\n",
    "x_train, x_test, y_train, y_test = train_test_split(x, y, random_state=42, test_size=0.33)"
   ]
  },
  {
   "cell_type": "markdown",
   "metadata": {},
   "source": [
    "### Model"
   ]
  },
  {
   "cell_type": "code",
   "execution_count": 15,
   "metadata": {},
   "outputs": [],
   "source": [
    "rfc = RandomForestClassifier(max_depth=4)"
   ]
  },
  {
   "cell_type": "code",
   "execution_count": 16,
   "metadata": {},
   "outputs": [
    {
     "name": "stderr",
     "output_type": "stream",
     "text": [
      "C:\\Users\\amras\\Anaconda3\\lib\\site-packages\\sklearn\\ensemble\\forest.py:245: FutureWarning: The default value of n_estimators will change from 10 in version 0.20 to 100 in 0.22.\n",
      "  \"10 in version 0.20 to 100 in 0.22.\", FutureWarning)\n"
     ]
    },
    {
     "data": {
      "text/plain": [
       "RandomForestClassifier(bootstrap=True, class_weight=None, criterion='gini',\n",
       "                       max_depth=4, max_features='auto', max_leaf_nodes=None,\n",
       "                       min_impurity_decrease=0.0, min_impurity_split=None,\n",
       "                       min_samples_leaf=1, min_samples_split=2,\n",
       "                       min_weight_fraction_leaf=0.0, n_estimators=10,\n",
       "                       n_jobs=None, oob_score=False, random_state=None,\n",
       "                       verbose=0, warm_start=False)"
      ]
     },
     "execution_count": 16,
     "metadata": {},
     "output_type": "execute_result"
    }
   ],
   "source": [
    "rfc.fit(x_train, y_train)"
   ]
  },
  {
   "cell_type": "code",
   "execution_count": 17,
   "metadata": {},
   "outputs": [],
   "source": [
    "# predict data\n",
    "y_pred = rfc.predict(x_test)"
   ]
  },
  {
   "cell_type": "code",
   "execution_count": 18,
   "metadata": {},
   "outputs": [
    {
     "name": "stdout",
     "output_type": "stream",
     "text": [
      "Confusion Matrix :\n",
      "\n",
      "[[54  0  0  0  1  0  0  0  0  0]\n",
      " [ 0 42  5  0  4  0  2  0  0  2]\n",
      " [ 0  0 48  3  0  0  0  0  1  0]\n",
      " [ 1  2  1 47  0  0  0  0  4  1]\n",
      " [ 1  0  0  0 60  0  2  1  0  0]\n",
      " [ 0  0  0  0  2 59  1  0  0 11]\n",
      " [ 1  0  0  0  1  0 55  0  0  0]\n",
      " [ 0  0  0  0  3  1  0 58  0  0]\n",
      " [ 1  4  5  3  1  0  0  4 34  0]\n",
      " [ 1  0  1  3  1  2  0  4  1 55]]\n",
      "\n",
      "Classification Report :\n",
      "\n",
      "              precision    recall  f1-score   support\n",
      "\n",
      "           0       0.92      0.98      0.95        55\n",
      "           1       0.88      0.76      0.82        55\n",
      "           2       0.80      0.92      0.86        52\n",
      "           3       0.84      0.84      0.84        56\n",
      "           4       0.82      0.94      0.88        64\n",
      "           5       0.95      0.81      0.87        73\n",
      "           6       0.92      0.96      0.94        57\n",
      "           7       0.87      0.94      0.90        62\n",
      "           8       0.85      0.65      0.74        52\n",
      "           9       0.80      0.81      0.80        68\n",
      "\n",
      "    accuracy                           0.86       594\n",
      "   macro avg       0.86      0.86      0.86       594\n",
      "weighted avg       0.86      0.86      0.86       594\n",
      "\n"
     ]
    }
   ],
   "source": [
    "## Confusion Matrix And Classification Report\n",
    "print(\"Confusion Matrix :\\n\")\n",
    "print(confusion_matrix(y_test, y_pred))\n",
    "print()\n",
    "print(\"Classification Report :\\n\")\n",
    "print(classification_report(y_test, y_pred))"
   ]
  },
  {
   "cell_type": "markdown",
   "metadata": {},
   "source": [
    "### Bagging And Boosting"
   ]
  },
  {
   "cell_type": "code",
   "execution_count": 19,
   "metadata": {},
   "outputs": [],
   "source": [
    "# Define Bagging\n",
    "bg = BaggingClassifier(rfc, n_estimators=20)"
   ]
  },
  {
   "cell_type": "code",
   "execution_count": 20,
   "metadata": {},
   "outputs": [
    {
     "data": {
      "text/plain": [
       "BaggingClassifier(base_estimator=RandomForestClassifier(bootstrap=True,\n",
       "                                                        class_weight=None,\n",
       "                                                        criterion='gini',\n",
       "                                                        max_depth=4,\n",
       "                                                        max_features='auto',\n",
       "                                                        max_leaf_nodes=None,\n",
       "                                                        min_impurity_decrease=0.0,\n",
       "                                                        min_impurity_split=None,\n",
       "                                                        min_samples_leaf=1,\n",
       "                                                        min_samples_split=2,\n",
       "                                                        min_weight_fraction_leaf=0.0,\n",
       "                                                        n_estimators=10,\n",
       "                                                        n_jobs=None,\n",
       "                                                        oob_score=False,\n",
       "                                                        random_state=None,\n",
       "                                                        verbose=0,\n",
       "                                                        warm_start=False),\n",
       "                  bootstrap=True, bootstrap_features=False, max_features=1.0,\n",
       "                  max_samples=1.0, n_estimators=20, n_jobs=None,\n",
       "                  oob_score=False, random_state=None, verbose=0,\n",
       "                  warm_start=False)"
      ]
     },
     "execution_count": 20,
     "metadata": {},
     "output_type": "execute_result"
    }
   ],
   "source": [
    "bg.fit(x_train, y_train)"
   ]
  },
  {
   "cell_type": "code",
   "execution_count": 21,
   "metadata": {},
   "outputs": [],
   "source": [
    "# Predict Data\n",
    "bg_pred = bg.predict(x_test)"
   ]
  },
  {
   "cell_type": "code",
   "execution_count": 24,
   "metadata": {},
   "outputs": [
    {
     "name": "stdout",
     "output_type": "stream",
     "text": [
      "Confusion Matrix :\n",
      "\n",
      "[[54  0  0  0  1  0  0  0  0  0]\n",
      " [ 0 48  4  0  0  1  0  0  0  2]\n",
      " [ 0  0 50  1  0  0  0  0  1  0]\n",
      " [ 0  0  0 53  0  0  0  0  3  0]\n",
      " [ 0  0  0  0 60  0  0  4  0  0]\n",
      " [ 0  0  0  0  1 64  1  0  0  7]\n",
      " [ 0  0  0  0  1  0 56  0  0  0]\n",
      " [ 0  0  0  0  0  1  0 61  0  0]\n",
      " [ 0  3  1  0  0  1  0  1 45  1]\n",
      " [ 0  0  0  2  0  1  0  4  0 61]]\n",
      "\n",
      "Classification Report :\n",
      "\n",
      "              precision    recall  f1-score   support\n",
      "\n",
      "           0       1.00      0.98      0.99        55\n",
      "           1       0.94      0.87      0.91        55\n",
      "           2       0.91      0.96      0.93        52\n",
      "           3       0.95      0.95      0.95        56\n",
      "           4       0.95      0.94      0.94        64\n",
      "           5       0.94      0.88      0.91        73\n",
      "           6       0.98      0.98      0.98        57\n",
      "           7       0.87      0.98      0.92        62\n",
      "           8       0.92      0.87      0.89        52\n",
      "           9       0.86      0.90      0.88        68\n",
      "\n",
      "    accuracy                           0.93       594\n",
      "   macro avg       0.93      0.93      0.93       594\n",
      "weighted avg       0.93      0.93      0.93       594\n",
      "\n",
      "\n",
      "\n",
      "     Accuracy in  RandomForest Classifier => 0.83 \n",
      "     Accuracy in  Bagging      Classifier => 0.93\n",
      "\n",
      "\n",
      "\n"
     ]
    }
   ],
   "source": [
    "## Confusion Matrix And Classification Report\n",
    "print(\"Confusion Matrix :\\n\")\n",
    "print(confusion_matrix(y_test, bg_pred))\n",
    "print()\n",
    "print(\"Classification Report :\\n\")\n",
    "print(classification_report(y_test, bg_pred))\n",
    "print(\"\"\"\n",
    "\n",
    "     Accuracy in  RandomForest Classifier => 0.83 \n",
    "     Accuracy in  Bagging      Classifier => 0.93\n",
    "\n",
    "\n",
    "\"\"\")"
   ]
  },
  {
   "cell_type": "markdown",
   "metadata": {},
   "source": [
    "### Boosting"
   ]
  },
  {
   "cell_type": "code",
   "execution_count": 25,
   "metadata": {},
   "outputs": [],
   "source": [
    "# Define Boosting\n",
    "bs = AdaBoostClassifier(bg, n_estimators=50)"
   ]
  },
  {
   "cell_type": "code",
   "execution_count": 26,
   "metadata": {},
   "outputs": [
    {
     "data": {
      "text/plain": [
       "AdaBoostClassifier(algorithm='SAMME.R',\n",
       "                   base_estimator=BaggingClassifier(base_estimator=RandomForestClassifier(bootstrap=True,\n",
       "                                                                                          class_weight=None,\n",
       "                                                                                          criterion='gini',\n",
       "                                                                                          max_depth=4,\n",
       "                                                                                          max_features='auto',\n",
       "                                                                                          max_leaf_nodes=None,\n",
       "                                                                                          min_impurity_decrease=0.0,\n",
       "                                                                                          min_impurity_split=None,\n",
       "                                                                                          min_samples_leaf=1,\n",
       "                                                                                          min_samples_split=2,\n",
       "                                                                                          min_weight_fraction_leaf=0.0,\n",
       "                                                                                          n_estimators=10,\n",
       "                                                                                          n_jobs=None,\n",
       "                                                                                          oob_score=False,\n",
       "                                                                                          random_state=None,\n",
       "                                                                                          verbose=0,\n",
       "                                                                                          warm_start=False),\n",
       "                                                    bootstrap=True,\n",
       "                                                    bootstrap_features=False,\n",
       "                                                    max_features=1.0,\n",
       "                                                    max_samples=1.0,\n",
       "                                                    n_estimators=20,\n",
       "                                                    n_jobs=None,\n",
       "                                                    oob_score=False,\n",
       "                                                    random_state=None,\n",
       "                                                    verbose=0,\n",
       "                                                    warm_start=False),\n",
       "                   learning_rate=1.0, n_estimators=50, random_state=None)"
      ]
     },
     "execution_count": 26,
     "metadata": {},
     "output_type": "execute_result"
    }
   ],
   "source": [
    "# Fit Data\n",
    "bs.fit(x_train, y_train)"
   ]
  },
  {
   "cell_type": "code",
   "execution_count": 27,
   "metadata": {},
   "outputs": [],
   "source": [
    "# predict data\n",
    "bs_pred = bs.predict(x_test)"
   ]
  },
  {
   "cell_type": "code",
   "execution_count": 29,
   "metadata": {},
   "outputs": [
    {
     "name": "stdout",
     "output_type": "stream",
     "text": [
      "Confusion Matrix :\n",
      "\n",
      "[[55  0  0  0  0  0  0  0  0  0]\n",
      " [ 0 54  0  0  0  0  0  0  0  1]\n",
      " [ 0  0 49  0  0  0  0  0  3  0]\n",
      " [ 0  0  0 51  0  1  0  0  4  0]\n",
      " [ 0  0  0  0 63  0  1  0  0  0]\n",
      " [ 0  0  0  0  1 69  0  0  1  2]\n",
      " [ 0  0  0  0  0  1 56  0  0  0]\n",
      " [ 0  0  0  0  0  0  0 61  0  1]\n",
      " [ 0  0  0  0  0  1  0  0 51  0]\n",
      " [ 0  0  0  0  0  0  0  0  3 65]]\n",
      "\n",
      "Classification Report :\n",
      "\n",
      "              precision    recall  f1-score   support\n",
      "\n",
      "           0       1.00      1.00      1.00        55\n",
      "           1       1.00      0.98      0.99        55\n",
      "           2       1.00      0.94      0.97        52\n",
      "           3       1.00      0.91      0.95        56\n",
      "           4       0.98      0.98      0.98        64\n",
      "           5       0.96      0.95      0.95        73\n",
      "           6       0.98      0.98      0.98        57\n",
      "           7       1.00      0.98      0.99        62\n",
      "           8       0.82      0.98      0.89        52\n",
      "           9       0.94      0.96      0.95        68\n",
      "\n",
      "    accuracy                           0.97       594\n",
      "   macro avg       0.97      0.97      0.97       594\n",
      "weighted avg       0.97      0.97      0.97       594\n",
      "\n",
      "\n",
      "\n",
      "     Accuracy in  RandomForest Classifier => 0.83 \n",
      "     Accuracy in  Bagging Classifier      => 0.93\n",
      "     Accuracy in  AdaBoostClassifier      => 0.97\n",
      "\n",
      "\n",
      "\n"
     ]
    }
   ],
   "source": [
    "## Confusion Matrix And Classification Report\n",
    "print(\"Confusion Matrix :\\n\")\n",
    "print(confusion_matrix(y_test, bs_pred))\n",
    "print()\n",
    "print(\"Classification Report :\\n\")\n",
    "print(classification_report(y_test, bs_pred))\n",
    "print(\"\"\"\n",
    "\n",
    "     Accuracy in  RandomForest Classifier => 0.83 \n",
    "     Accuracy in  Bagging Classifier      => 0.93\n",
    "     Accuracy in  AdaBoostClassifier      => 0.97\n",
    "\n",
    "\n",
    "\"\"\")"
   ]
  }
 ],
 "metadata": {
  "kernelspec": {
   "display_name": "Python 3",
   "language": "python",
   "name": "python3"
  },
  "language_info": {
   "codemirror_mode": {
    "name": "ipython",
    "version": 3
   },
   "file_extension": ".py",
   "mimetype": "text/x-python",
   "name": "python",
   "nbconvert_exporter": "python",
   "pygments_lexer": "ipython3",
   "version": "3.6.8"
  }
 },
 "nbformat": 4,
 "nbformat_minor": 2
}
